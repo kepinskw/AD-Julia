{
 "cells": [
  {
   "cell_type": "markdown",
   "metadata": {},
   "source": [
    "Reverse-mode automatic differentiation in Julia "
   ]
  },
  {
   "cell_type": "markdown",
   "metadata": {},
   "source": [
    "Structures for computational graph"
   ]
  },
  {
   "cell_type": "code",
   "execution_count": 1,
   "metadata": {},
   "outputs": [],
   "source": [
    "abstract type GraphNode end\n",
    "abstract type Operator <: GraphNode end\n",
    "\n",
    "struct Constant{T} <: GraphNode\n",
    "    output :: T\n",
    "end\n",
    "\n",
    "mutable struct Variable <: GraphNode\n",
    "    output :: Any\n",
    "    gradient :: Any\n",
    "    name :: String\n",
    "    Variable(output; name=\"?\") = new(output, nothing, name)\n",
    "end\n",
    "\n",
    "mutable struct ScalarOperator{F} <: Operator\n",
    "    inputs :: Any\n",
    "    output :: Any\n",
    "    gradient :: Any\n",
    "    name :: String\n",
    "    ScalarOperator(fun, inputs...; name=\"?\") = new{typeof(fun)}(inputs, nothing, nothing, name)\n",
    "end\n",
    "\n",
    "mutable struct BroadcastedOperator{F} <: Operator\n",
    "    inputs :: Any\n",
    "    output :: Any\n",
    "    gradient :: Any\n",
    "    name :: String\n",
    "    BroadcastedOperator(fun, inputs...; name=\"?\") = new{typeof(fun)}(inputs, nothing, nothing, name)\n",
    "end"
   ]
  },
  {
   "cell_type": "code",
   "execution_count": 2,
   "metadata": {},
   "outputs": [
    {
     "data": {
      "text/plain": [
       "show (generic function with 281 methods)"
      ]
     },
     "execution_count": 2,
     "metadata": {},
     "output_type": "execute_result"
    }
   ],
   "source": [
    "import Base: show, summary\n",
    "show(io::IO, x::ScalarOperator{F}) where {F} = print(io, \"op \", x.name, \"(\", F, \")\");\n",
    "show(io::IO, x::BroadcastedOperator{F}) where {F} = print(io, \"op.\", x.name, \"(\", F, \")\");\n",
    "show(io::IO, x::Constant) = print(io, \"const \", x.output)\n",
    "show(io::IO, x::Variable) = begin\n",
    "    print(io, \"var \", x.name);\n",
    "    print(io, \"\\n ┣━ ^ \"); summary(io, x.output)\n",
    "    print(io, \"\\n ┗━ ∇ \");  summary(io, x.gradient)\n",
    "end"
   ]
  },
  {
   "cell_type": "markdown",
   "metadata": {},
   "source": [
    "Graph: topological_sort and visit functionalities"
   ]
  },
  {
   "cell_type": "code",
   "execution_count": 3,
   "metadata": {},
   "outputs": [
    {
     "data": {
      "text/plain": [
       "topological_sort (generic function with 1 method)"
      ]
     },
     "execution_count": 3,
     "metadata": {},
     "output_type": "execute_result"
    }
   ],
   "source": [
    "function visit(node::GraphNode, visited, order)\n",
    "    if node ∈ visited\n",
    "    else\n",
    "        push!(visited, node)\n",
    "        push!(order, node)\n",
    "    end\n",
    "    return nothing\n",
    "end\n",
    "    \n",
    "function visit(node::Operator, visited, order) \n",
    "    if node ∈ visited\n",
    "    else\n",
    "        push!(visited, node)\n",
    "        for input in node.inputs::Tuple\n",
    "            visit(input, visited, order)\n",
    "        end\n",
    "        push!(order, node)\n",
    "    end\n",
    "    return nothing\n",
    "end\n",
    "\n",
    "function topological_sort(head::GraphNode)\n",
    "    visited = Set{GraphNode}()\n",
    "    order = Vector{GraphNode}()\n",
    "    visit(head, visited, order)\n",
    "    return order\n",
    "end"
   ]
  },
  {
   "cell_type": "markdown",
   "metadata": {},
   "source": [
    "Forward mode AD"
   ]
  },
  {
   "cell_type": "code",
   "execution_count": 4,
   "metadata": {},
   "outputs": [
    {
     "data": {
      "text/plain": [
       "forward! (generic function with 1 method)"
      ]
     },
     "execution_count": 4,
     "metadata": {},
     "output_type": "execute_result"
    }
   ],
   "source": [
    "reset!(node::Constant) = nothing\n",
    "reset!(node::Variable) = node.gradient = nothing\n",
    "reset!(node::Operator) = node.gradient = nothing\n",
    "\n",
    "function reset_gradients!(graph::Vector{GraphNode})\n",
    "    for node in graph\n",
    "        node.gradient = nothing\n",
    "    end\n",
    "end\n",
    "\n",
    "\n",
    "compute!(node::Constant) = nothing\n",
    "compute!(node::Variable) = nothing\n",
    "compute!(node::Operator) =\n",
    "    node.output = forward(node, [input.output for input in node.inputs]...)\n",
    "\n",
    "function forward!(order::Vector{GraphNode})\n",
    "    for node in order\n",
    "        compute!(node)\n",
    "        reset!(node)\n",
    "    end\n",
    "    return last(order).output\n",
    "end"
   ]
  },
  {
   "cell_type": "markdown",
   "metadata": {},
   "source": [
    "Reverse mode AD"
   ]
  },
  {
   "cell_type": "code",
   "execution_count": 5,
   "metadata": {},
   "outputs": [
    {
     "data": {
      "text/plain": [
       "backward! (generic function with 4 methods)"
      ]
     },
     "execution_count": 5,
     "metadata": {},
     "output_type": "execute_result"
    }
   ],
   "source": [
    "update!(node::Constant, gradient) = nothing\n",
    "update!(node::GraphNode, gradient) = if isnothing(node.gradient)\n",
    "    node.gradient = gradient else node.gradient .+= gradient\n",
    "end\n",
    "\n",
    "function backward!(order::Vector{GraphNode}; seed=1.0)\n",
    "    result = last(order)\n",
    "    result.gradient = seed\n",
    "    for node in reverse(order)\n",
    "        backward!(node)\n",
    "    end\n",
    "    return nothing\n",
    "end\n",
    "\n",
    "function backward!(node::Constant) end\n",
    "function backward!(node::Variable) end\n",
    "function backward!(node::Operator)\n",
    "    inputs = node.inputs\n",
    "    gradients = backward(node, [input.output for input in inputs]..., node.gradient)\n",
    "    for (input, gradient) in zip(inputs, gradients)\n",
    "        update!(input, gradient)\n",
    "    end\n",
    "    return nothing\n",
    "end"
   ]
  },
  {
   "cell_type": "markdown",
   "metadata": {},
   "source": [
    "ScalarOperator logic"
   ]
  },
  {
   "cell_type": "code",
   "execution_count": 6,
   "metadata": {},
   "outputs": [
    {
     "data": {
      "text/plain": [
       "backward (generic function with 9 methods)"
      ]
     },
     "execution_count": 6,
     "metadata": {},
     "output_type": "execute_result"
    }
   ],
   "source": [
    "import Base: ^ , *, +, -, /\n",
    "\n",
    "^(x::GraphNode, n::GraphNode) = ScalarOperator(^, x::Float64, n)\n",
    "forward(::ScalarOperator{typeof(^)}, x::Float64, n) = return x^n\n",
    "backward(::ScalarOperator{typeof(^)}, x::Float64, n, g::Float64) = tuple(g * n * x ^ (n-1), g * log(abs(x)) * x ^ n)\n",
    "\n",
    "+(x::GraphNode, y::GraphNode) = ScalarOperator(+, x::Float64, y::Float64)\n",
    "forward(::ScalarOperator{typeof(+)}, x::Float64, y::Float64) = x + y\n",
    "backward(::ScalarOperator{typeof(+)}, x::Float64, y::Float64, gradient::Float64) = (gradient, gradient)\n",
    "\n",
    "-(x::GraphNode, y::GraphNode) = ScalarOperator(-, x::Float64, y::Float64)\n",
    "forward(::ScalarOperator{typeof(-)}, x::Float64, y::Float64) = x - y\n",
    "backward(::ScalarOperator{typeof(-)}, x::Float64, y::Float64, gradient::Float64) = (gradient, -gradient)\n",
    "\n",
    "*(x::GraphNode, y::GraphNode) = ScalarOperator(*, x::Float64, y::Float64)\n",
    "forward(::ScalarOperator{typeof(*)}, x::Float64, y::Float64) = x * y\n",
    "backward(::ScalarOperator{typeof(*)}, x::Float64, y::Float64, gradient::Float64) = (y' * gradient, x' * gradient)\n",
    "\n",
    "/(x::GraphNode, y::GraphNode) = ScalarOperator(/, x::Float64, y::Float64)\n",
    "forward(::ScalarOperator{typeof(/)}, x::Float64, y::Float64) = x / y\n",
    "backward(::ScalarOperator{typeof(/)}, x::Float64, y::Float64, gradient::Float64) = (gradient / y, gradient / y)\n",
    "\n",
    "\n",
    "import Base: sin , max, min, log\n",
    "sin(x::GraphNode) = ScalarOperator(sin, x::Float64)\n",
    "forward(::ScalarOperator{typeof(sin)}, x::Float64) = return sin(x)\n",
    "backward(::ScalarOperator{typeof(sin)}, x::Float64, g::Float64) = tuple(g * cos(x))\n",
    "\n",
    "log(x::GraphNode) = ScalarOperator(log, x::Float64)\n",
    "forward(::ScalarOperator{typeof(log)}, x::Float64) = log(x)\n",
    "backward(::ScalarOperator{typeof(log)}, x::Float64, gradient::Float64) = (gradient / x)\n",
    "\n",
    "max(x::GraphNode, y::GraphNode) = ScalarOperator(max, x::Float64, y::Float64)\n",
    "forward(::ScalarOperator{typeof(max)}, x::Float64, y::Float64) = max(x, y)\n",
    "backward(::ScalarOperator{typeof(max)}, x::Float64, y::Float64, gradient::Float64) = (gradient * isless(y, x), gradient * isless(x, y))\n",
    "\n",
    "min(x::GraphNode, y::GraphNode) = ScalarOperator(min, x::Float64, y::Float64)\n",
    "forward(::ScalarOperator{typeof(min)}, x::Float64, y::Float64) = min(x, y)\n",
    "backward(::ScalarOperator{typeof(min)}, x::Float64, y::Float64, gradient::Float64) = (gradient * isless(x, y), gradient * isless(y, x))\n"
   ]
  },
  {
   "cell_type": "markdown",
   "metadata": {},
   "source": [
    "Broadcast Operator logic\n"
   ]
  },
  {
   "cell_type": "code",
   "execution_count": 7,
   "metadata": {},
   "outputs": [
    {
     "data": {
      "text/plain": [
       "backward (generic function with 17 methods)"
      ]
     },
     "execution_count": 7,
     "metadata": {},
     "output_type": "execute_result"
    }
   ],
   "source": [
    "import Base: *\n",
    "import LinearAlgebra: mul!, diagm\n",
    "# x * y (aka matrix multiplication)\n",
    "*(A::GraphNode, x::GraphNode) = BroadcastedOperator(mul!, A::Matrix{Float64}, x::Matrix{Float64})\n",
    "forward(::BroadcastedOperator{typeof(mul!)}, A::Matrix{Float64}, x::Matrix{Float64}) = return A * x\n",
    "backward(::BroadcastedOperator{typeof(mul!)}, A::Matrix{Float64}, x::Matrix{Float64}, g::Matrix{Float64}) = tuple(g * x', A' * g)\n",
    "\n",
    "# x .* y (element-wise multiplication)\n",
    "Base.Broadcast.broadcasted(*, x::GraphNode, y::GraphNode) = BroadcastedOperator(*, x::Matrix{Float64}, y::Matrix{Float64})\n",
    "forward(::BroadcastedOperator{typeof(*)}, x::Matrix{Float64}, y::Matrix{Float64}) = return x .* y\n",
    "backward(node::BroadcastedOperator{typeof(*)}, x::Matrix{Float64}, y::Matrix{Float64}, g::Matrix{Float64}) = let\n",
    "    𝟏 = ones(length(node.output))\n",
    "    Jx = diagm(y .* 𝟏)\n",
    "    Jy = diagm(x .* 𝟏)\n",
    "    tuple(Jx' * g, Jy' * g)\n",
    "end\n",
    "\n",
    "Base.Broadcast.broadcasted(-, x::GraphNode, y::GraphNode) = BroadcastedOperator(-, x::Matrix{Float64}, y::Matrix{Float64})\n",
    "forward(::BroadcastedOperator{typeof(-)}, x::Matrix{Float64}, y::Matrix{Float64}) = return x .- y\n",
    "backward(::BroadcastedOperator{typeof(-)}, x::Matrix{Float64}, y::Matrix{Float64}, g::Matrix{Float64}) = tuple(g,-g)\n",
    "\n",
    "Base.Broadcast.broadcasted(+, x::GraphNode, y::GraphNode) = BroadcastedOperator(+, x::Matrix{Float64}, y::Matrix{Float64})\n",
    "forward(::BroadcastedOperator{typeof(+)}, x::Matrix{Float64}, y::Matrix{Float64}) = return x .+ y\n",
    "backward(::BroadcastedOperator{typeof(+)}, x::Matrix{Float64}, y::Matrix{Float64}, g::Matrix{Float64}) = tuple(g, g)\n",
    "\n",
    "import Base: sum\n",
    "sum(x::GraphNode) = BroadcastedOperator(sum, x::Matrix{Float64})\n",
    "forward(::BroadcastedOperator{typeof(sum)}, x::Matrix{Float64}) = return sum(x)\n",
    "backward(::BroadcastedOperator{typeof(sum)}, x::Matrix{Float64} ,g::Matrix{Float64}) = let\n",
    "    𝟏 = ones(length(x))\n",
    "    J = 𝟏'\n",
    "    tuple(J' * g)\n",
    "end\n",
    "\n",
    "Base.Broadcast.broadcasted(/, x::GraphNode, y::GraphNode) = BroadcastedOperator(/, x::Matrix{Float64}, y::Matrix{Float64})\n",
    "forward(::BroadcastedOperator{typeof(/)}, x::Matrix{Float64}, y::Matrix{Float64}) = return x ./ y\n",
    "backward(node::BroadcastedOperator{typeof(/)}, x::Matrix{Float64}, y::Matrix{Float64}, g::Matrix{Float64}) = let\n",
    "    𝟏 = ones(length(node.output))\n",
    "    Jx = diagm(𝟏 ./ y)\n",
    "    Jy = (-x ./ y .^2)\n",
    "    tuple(Jx' * g, Jy' * g)\n",
    "end\n",
    "\n",
    "import Base: max\n",
    "Base.Broadcast.broadcasted(max, x::GraphNode, y::GraphNode) = BroadcastedOperator(max, x::Matrix{Float64}, y::Matrix{Float64})\n",
    "forward(::BroadcastedOperator{typeof(max)}, x::Matrix{Float64}, y::Matrix{Float64}) = return max.(x, y)\n",
    "backward(::BroadcastedOperator{typeof(max)}, x::Matrix{Float64}, y::Matrix{Float64}, g::Matrix{Float64}) = let\n",
    "    Jx = diagm(isless.(y, x))\n",
    "    Jy = diagm(isless.(x, y))\n",
    "    tuple(Jx' * g, Jy' * g)\n",
    "end\n",
    "\n",
    "import Base: tanh\n",
    "Base.Broadcast.broadcasted(tanh, x::GraphNode)= BroadcastedOperator(tanh,x::Matrix{Float64}; name=\"tanh\")\n",
    "forward(::BroadcastedOperator{typeof(tanh)},x::Matrix{Float64}) = return tanh.(x)\n",
    "backward(::BroadcastedOperator{typeof(tanh)},x::Matrix{Float64}, g::Matrix{Float64}) = let \n",
    "    𝟙 = ones(length(node.output))\n",
    "    tuple((𝟙 - tanh.(x).^2) * g)\n",
    "end"
   ]
  },
  {
   "cell_type": "markdown",
   "metadata": {},
   "source": [
    "Backpropagation of RNN_Cell and Dense layer"
   ]
  },
  {
   "cell_type": "code",
   "execution_count": 8,
   "metadata": {},
   "outputs": [
    {
     "data": {
      "text/plain": [
       "backward (generic function with 19 methods)"
      ]
     },
     "execution_count": 8,
     "metadata": {},
     "output_type": "execute_result"
    }
   ],
   "source": [
    "RNN_cell(wx::GraphNode, wh::GraphNode, b::GraphNode, x::GraphNode, h::GraphNode) = BroadcastedOperator(RNN_cell, wx, wh, b, x, h; name=\"RNN_cell\")\n",
    "forward(::BroadcastedOperator{typeof(RNN_cell)}, wx::Matrix{Float64}, wh::Matrix{Float64}, b::Vector{Float64}, x::SubArray{Float64} ,h::Matrix{Float64}) = let \n",
    "    tmp = wx * x .+ wh * h .+ b\n",
    "    return tanh.(tmp)\n",
    "end\n",
    "backward(::BroadcastedOperator{typeof(RNN_cell)}, wx::Matrix{Float64}, wh::Matrix{Float64}, b::Vector{Float64}, x::SubArray{Float64}, h::Matrix{Float64}, g::Matrix{Float64}) = let \n",
    "    tmp = wx * x .+ wh * h .+ b\n",
    "    dtanh = 1 .- tanh.(tmp).^2\n",
    "    g = g .* dtanh\n",
    "    tuple(g * x', g * h', sum(g,dims=2), wx' *g, wh' * g)\n",
    "end\n",
    "\n",
    "dense(w::GraphNode, b::GraphNode, x::GraphNode) = BroadcastedOperator(dense, w , b, x; name=\"dense\")\n",
    "forward(::BroadcastedOperator{typeof(dense)}, w::Matrix{Float64}, b::Vector{Float64}, x::Matrix{Float64}) = let \n",
    "    w * x .+ b\n",
    "end\n",
    "backward(::BroadcastedOperator{typeof(dense)}, w::Matrix{Float64}, b::Vector{Float64}, x::Matrix{Float64}, g::Matrix{Float64}) = let \n",
    "    tuple(g * x', sum(g,dims=2), w' * g)\n",
    "end"
   ]
  },
  {
   "cell_type": "markdown",
   "metadata": {},
   "source": [
    "Backpropagation: Cross-entropy loss"
   ]
  },
  {
   "cell_type": "code",
   "execution_count": 9,
   "metadata": {},
   "outputs": [
    {
     "data": {
      "text/plain": [
       "backward (generic function with 20 methods)"
      ]
     },
     "execution_count": 9,
     "metadata": {},
     "output_type": "execute_result"
    }
   ],
   "source": [
    "cross_entropy_loss(yhat::GraphNode, y::GraphNode) = BroadcastedOperator(cross_entropy_loss, yhat, y; name=\"cross_entropy_loss\")\n",
    "forward(::BroadcastedOperator{typeof(cross_entropy_loss)}, ŷ::Matrix{Float64}, y::Matrix{Int64}) =\n",
    "let\n",
    "    eps = 1e-8\n",
    "    ŷ = ŷ .- maximum(ŷ; dims=1)\n",
    "    softmax = exp.(ŷ) ./ sum(exp.(ŷ); dims=1)\n",
    "    softmax = clamp.(softmax, eps, 1.0 - eps)\n",
    "    loss = -sum(y .* log.(softmax .+eps); dims=1) \n",
    "    return mean(loss)\n",
    "end\n",
    "backward(node::BroadcastedOperator{typeof(cross_entropy_loss)}, yhat::Matrix{Float64}, y::Matrix{Int64}, g) =\n",
    "let\n",
    "    eps = 1e-8\n",
    "    yhat = yhat .- maximum(yhat; dims=1)  # for numerical stability\n",
    "    softmax = exp.(yhat) ./ sum(exp.(yhat); dims=1)\n",
    "    softmax = clamp.(softmax, eps, 1.0 - eps)\n",
    "    grad_yhat = softmax - y\n",
    "    return (g .* grad_yhat,)\n",
    "end"
   ]
  },
  {
   "cell_type": "markdown",
   "metadata": {},
   "source": [
    "Dataset"
   ]
  },
  {
   "cell_type": "code",
   "execution_count": 10,
   "metadata": {},
   "outputs": [
    {
     "data": {
      "text/plain": [
       "dataset MNIST:\n",
       "  metadata  =>    Dict{String, Any} with 3 entries\n",
       "  split     =>    :test\n",
       "  features  =>    28×28×10000 Array{Float32, 3}\n",
       "  targets   =>    10000-element Vector{Int64}"
      ]
     },
     "execution_count": 10,
     "metadata": {},
     "output_type": "execute_result"
    }
   ],
   "source": [
    "using MLDatasets\n",
    "using Statistics: mean  \n",
    "train_data = MLDatasets.MNIST(split=:train)\n",
    "test_data = MLDatasets.MNIST(split=:test)"
   ]
  },
  {
   "cell_type": "markdown",
   "metadata": {},
   "source": [
    "Loader function and hot-coldbatch functions"
   ]
  },
  {
   "cell_type": "code",
   "execution_count": 11,
   "metadata": {},
   "outputs": [
    {
     "data": {
      "text/plain": [
       "onecold (generic function with 1 method)"
      ]
     },
     "execution_count": 11,
     "metadata": {},
     "output_type": "execute_result"
    }
   ],
   "source": [
    "using Random\n",
    "function loader(data::MNIST; batchsize::Int=1, shuffle::Bool=true)\n",
    "    x1dim = reshape(Array{Float64}(data.features), 28 * 28, :) # reshape 28×28 pixels into a vector of pixels\n",
    "    yhot = onehotbatch(data.targets, 0:9) # make a 10×60000 one-hot matrix\n",
    "    \n",
    "    dataset = (x1dim, yhot)\n",
    "    \n",
    "    num_samples = size(x1dim::Matrix{Float64}, 2)\n",
    "    \n",
    "    # Create batches\n",
    "    function create_batches()\n",
    "        indices = shuffle ? Random.shuffle(1:num_samples) : 1:num_samples\n",
    "        batches = []\n",
    "        \n",
    "        @inbounds for i in 1:batchsize:num_samples\n",
    "            end_idx = min(i+batchsize-1, num_samples)\n",
    "            push!(batches, (x1dim[:, indices[i:end_idx]], yhot[:, indices[i:end_idx]]))\n",
    "        end\n",
    "        \n",
    "        return batches\n",
    "    end\n",
    "    \n",
    "    return create_batches()\n",
    "end\n",
    "\n",
    "\n",
    "function onehotbatch(targets, classes)\n",
    "    onehot = zeros(Int, length(classes), length(targets))\n",
    "    for (i, target) in enumerate(targets)\n",
    "        onehot[target+1, i] = 1\n",
    "    end\n",
    "    return onehot\n",
    "end\n",
    "\n",
    "function onecold(y)\n",
    "    return argmax(y, dims=1)\n",
    "end"
   ]
  },
  {
   "cell_type": "markdown",
   "metadata": {},
   "source": [
    "RNN structure"
   ]
  },
  {
   "cell_type": "code",
   "execution_count": 12,
   "metadata": {},
   "outputs": [
    {
     "data": {
      "text/plain": [
       "dense (generic function with 2 methods)"
      ]
     },
     "execution_count": 12,
     "metadata": {},
     "output_type": "execute_result"
    }
   ],
   "source": [
    "function Recurent_stage(Wx::GraphNode, Wh::GraphNode, b1::GraphNode, x::GraphNode, h::GraphNode)\n",
    "    x̂ = RNN_cell(Wx, Wh, b1, x, h)\n",
    "    x̂.name = \"x̂\"\n",
    "    x̂\n",
    "end\n",
    "\n",
    "function dense(w, b, x)\n",
    "    w * x .+ b\n",
    "end"
   ]
  },
  {
   "cell_type": "code",
   "execution_count": 13,
   "metadata": {},
   "outputs": [
    {
     "data": {
      "text/plain": [
       "net_test (generic function with 1 method)"
      ]
     },
     "execution_count": 13,
     "metadata": {},
     "output_type": "execute_result"
    }
   ],
   "source": [
    "function net_test(data::MNIST, Wx::Variable, Wh::Variable, W::Variable, b1::Variable, b2::Variable)\n",
    "    (x,y) = loader(data; batchsize=length(data)) |> first\n",
    "    x_var = Variable(@views(x[1:196,:]), name=\"x\")\n",
    "    y = Variable(y, name=\"y\")\n",
    "    h = Recurent_stage(Wx, Wh, b1,  x_var, Variable(zeros(64,length(data))))\n",
    "    x_var = Variable(@views(x[197:392,:]), name=\"x\")\n",
    "    h =  Recurent_stage(Wx, Wh,  b1,  x_var, h)\n",
    "    x_var = Variable(@views(x[393:588,:]), name=\"x\")\n",
    "    h =  Recurent_stage(Wx, Wh,  b1,  x_var, h)\n",
    "    x_var = Variable(@views(x[589:end,:]), name=\"x\")\n",
    "    x̂ =  Recurent_stage(Wx, Wh,  b1, x_var, h)\n",
    "    ŷ = dense(W, b2, x̂)\n",
    "    E = cross_entropy_loss(ŷ, y)\n",
    "    E.name = \"loss\"\n",
    "    E.inputs\n",
    "    graph = topological_sort(E)\n",
    "    loss = forward!(graph)\n",
    "    acc = round(100*mean(onecold(Float64.(ŷ.output)) .== onecold(Float64.(y.output))); digits=2)\n",
    "    (; loss, acc, split=data.split)\n",
    "end"
   ]
  },
  {
   "cell_type": "markdown",
   "metadata": {},
   "source": [
    "Weights update and clipping "
   ]
  },
  {
   "cell_type": "code",
   "execution_count": 14,
   "metadata": {},
   "outputs": [
    {
     "data": {
      "text/plain": [
       "cliping (generic function with 1 method)"
      ]
     },
     "execution_count": 14,
     "metadata": {},
     "output_type": "execute_result"
    }
   ],
   "source": [
    "function weights_update(graph::Vector{GraphNode}, lr=0.0001)\n",
    "    for node in graph\n",
    "        if isa(node, Variable) && !isnothing(node.gradient)\n",
    "            node.output .-= lr*node.gradient\n",
    "            node.gradient .= 0.0\n",
    "        end\n",
    "    end\n",
    "end\n",
    "\n",
    "function cliping(graph::Vector{GraphNode})\n",
    "    clip_value = 5.0 \n",
    "    for node in graph\n",
    "        if isa(node, Variable) && !isnothing(node.gradient)\n",
    "            node.gradient .= clamp.(node.gradient, -clip_value, clip_value)\n",
    "        end\n",
    "    end\n",
    "end"
   ]
  },
  {
   "cell_type": "markdown",
   "metadata": {},
   "source": [
    "Weights initialization using the Xavier method"
   ]
  },
  {
   "cell_type": "code",
   "execution_count": 15,
   "metadata": {},
   "outputs": [
    {
     "data": {
      "text/plain": [
       "var b2\n",
       " ┣━ ^ 10-element Vector{Float64}\n",
       " ┗━ ∇ Nothing"
      ]
     },
     "execution_count": 15,
     "metadata": {},
     "output_type": "execute_result"
    }
   ],
   "source": [
    "input_size = 14*14\n",
    "hidden_size = 64\n",
    "output_size = 10\n",
    "\n",
    "function xavier_init(out_size, in_size, gain)\n",
    "    return randn(out_size, in_size) .* gain * sqrt(6.0 / (in_size + out_size))\n",
    "end\n",
    "\n",
    "Wx = Variable(xavier_init(hidden_size, input_size,2), name=\"Wx\")\n",
    "Wh = Variable(xavier_init(hidden_size, hidden_size,2), name=\"Wh\")\n",
    "W  = Variable(xavier_init(output_size, hidden_size,2), name=\"W\")\n",
    "b1 = Variable(randn(hidden_size), name=\"b1\")\n",
    "b2 = Variable(randn(output_size), name=\"b2\")"
   ]
  },
  {
   "cell_type": "markdown",
   "metadata": {},
   "source": [
    "Train loop"
   ]
  },
  {
   "cell_type": "code",
   "execution_count": 16,
   "metadata": {},
   "outputs": [
    {
     "data": {
      "text/plain": [
       "train (generic function with 1 method)"
      ]
     },
     "execution_count": 16,
     "metadata": {},
     "output_type": "execute_result"
    }
   ],
   "source": [
    "loss_train, acc_train, _ = net_test(train_data, Wx, Wh, W, b1, b2)\n",
    "\n",
    "function train(train_data::MNIST,test_data::MNIST, Wx::Variable, Wh::Variable, W::Variable, b1::Variable, b2::Variable)\n",
    "    best_acc = 0.0\n",
    "    last_improvent = 0\n",
    "    lr = 15e-3\n",
    "    for epoch in 1:5\n",
    "        @time for (x,y) in loader(train_data; batchsize = 100)\n",
    "            h = Variable(zeros(64,100), name=\"h\")\n",
    "            x_var = Variable(@views(x[1:196,:]), name=\"x\")\n",
    "            y = Variable(y, name=\"y\")\n",
    "            h = Recurent_stage(Wx, Wh, b1,  x_var, h)\n",
    "            h.name = \"h\"\n",
    "            x_var = Variable(@views(x[197:392,:]), name=\"x\")\n",
    "            h =  Recurent_stage(Wx, Wh,  b1,  x_var, h)\n",
    "            h.name = \"h\"\n",
    "            x_var = Variable(@views(x[393:588,:]), name=\"x\")\n",
    "            h =  Recurent_stage(Wx, Wh,  b1,  x_var, h)\n",
    "            h.name = \"h\"\n",
    "            x_var = Variable(@views(x[589:end,:]), name=\"x\")\n",
    "            x̂ =  Recurent_stage(Wx, Wh,  b1, x_var, h)\n",
    "            h.name = \"x̂\"\n",
    "            ŷ = dense(W, b2, x̂)\n",
    "            E = cross_entropy_loss(ŷ, y)\n",
    "            E.name = \"loss\"\n",
    "            graph = topological_sort(E)\n",
    "            forward!(graph)\n",
    "            reset_gradients!(graph)\n",
    "            backward!(graph)\n",
    "            cliping(graph)    \n",
    "            weights_update(graph, lr)\n",
    "                \n",
    "        end\n",
    "        loss_train::Float64, acc_train::Float64, _ = net_test(train_data, Wx, Wh, W, b1, b2)\n",
    "        loss_test::Float64, acc_test::Float64, _ = net_test(test_data, Wx, Wh, W, b1, b2)\n",
    "\n",
    "        if acc_train > best_acc\n",
    "            best_acc = acc_train\n",
    "            last_improvent = epoch\n",
    "        end\n",
    "        if  epoch - last_improvent >= 10 && lr > 1e-6\n",
    "            lr /= 10\n",
    "            last_improvent = epoch\n",
    "        end\n",
    "        if epoch - last_improvent >= 20\n",
    "            @warn \"Early stopping no inprovement in 20 epochs\"\n",
    "            break\n",
    "        end\n",
    "        @info \"Epoch: $epoch, Train Loss: $loss_train, Train Accuracy: $acc_train, Test Loss: $loss_test, Test Accuracy: $acc_test\"\n",
    "    end\n",
    "end"
   ]
  },
  {
   "cell_type": "markdown",
   "metadata": {},
   "source": [
    "Main"
   ]
  },
  {
   "cell_type": "code",
   "execution_count": 17,
   "metadata": {
    "scrolled": true
   },
   "outputs": [
    {
     "name": "stdout",
     "output_type": "stream",
     "text": [
      "  4.735497 seconds (3.80 M allocations: 3.318 GiB, 1.46% gc time, 66.39% compilation time)\n"
     ]
    },
    {
     "name": "stderr",
     "output_type": "stream",
     "text": [
      "\u001b[36m\u001b[1m[ \u001b[22m\u001b[39m\u001b[36m\u001b[1mInfo: \u001b[22m\u001b[39mEpoch: 1, Train Loss: 0.34594478919632715, Train Accuracy: 89.55, Test Loss: 0.34248072068330876, Test Accuracy: 89.71\n"
     ]
    },
    {
     "name": "stdout",
     "output_type": "stream",
     "text": [
      "  1.986510 seconds (376.21 k allocations: 3.097 GiB, 10.11% gc time)\n"
     ]
    },
    {
     "name": "stderr",
     "output_type": "stream",
     "text": [
      "\u001b[36m\u001b[1m[ \u001b[22m\u001b[39m\u001b[36m\u001b[1mInfo: \u001b[22m\u001b[39mEpoch: 2, Train Loss: 0.29144296917094764, Train Accuracy: 91.27, Test Loss: 0.3041180688485792, Test Accuracy: 91.17\n"
     ]
    },
    {
     "name": "stdout",
     "output_type": "stream",
     "text": [
      "  1.571713 seconds (376.21 k allocations: 3.097 GiB, 9.96% gc time)\n"
     ]
    },
    {
     "name": "stderr",
     "output_type": "stream",
     "text": [
      "\u001b[36m\u001b[1m[ \u001b[22m\u001b[39m\u001b[36m\u001b[1mInfo: \u001b[22m\u001b[39mEpoch: 3, Train Loss: 0.23854133644130548, Train Accuracy: 92.7, Test Loss: 0.25133518483430334, Test Accuracy: 92.31\n"
     ]
    },
    {
     "name": "stdout",
     "output_type": "stream",
     "text": [
      "  1.548020 seconds (376.21 k allocations: 3.097 GiB, 17.89% gc time)\n"
     ]
    },
    {
     "name": "stderr",
     "output_type": "stream",
     "text": [
      "\u001b[36m\u001b[1m[ \u001b[22m\u001b[39m\u001b[36m\u001b[1mInfo: \u001b[22m\u001b[39mEpoch: 4, Train Loss: 0.2274940126966537, Train Accuracy: 93.35, Test Loss: 0.2341581635731016, Test Accuracy: 93.15\n"
     ]
    },
    {
     "name": "stdout",
     "output_type": "stream",
     "text": [
      "  1.563000 seconds (376.21 k allocations: 3.097 GiB, 18.99% gc time)\n",
      " 16.170310 seconds (6.22 M allocations: 23.015 GiB, 7.47% gc time, 22.63% compilation time)\n"
     ]
    },
    {
     "name": "stderr",
     "output_type": "stream",
     "text": [
      "\u001b[36m\u001b[1m[ \u001b[22m\u001b[39m\u001b[36m\u001b[1mInfo: \u001b[22m\u001b[39mEpoch: 5, Train Loss: 0.2555521468505183, Train Accuracy: 92.24, Test Loss: 0.2724857583877542, Test Accuracy: 91.67\n",
      "\u001b[36m\u001b[1m[ \u001b[22m\u001b[39m\u001b[36m\u001b[1mInfo: \u001b[22m\u001b[39mElapsed time: 16.386308908462524\n"
     ]
    }
   ],
   "source": [
    "start_time = time()\n",
    "@time train(train_data, test_data, Wx, Wh, W, b1, b2)\n",
    "end_time = time()\n",
    "elapsed_time = end_time - start_time\n",
    "@info \"Elapsed time: $elapsed_time\"\n",
    "\n"
   ]
  }
 ],
 "metadata": {
  "kernelspec": {
   "display_name": "Julia 1.10.2",
   "language": "julia",
   "name": "julia-1.10"
  },
  "language_info": {
   "file_extension": ".jl",
   "mimetype": "application/julia",
   "name": "julia",
   "version": "1.10.2"
  }
 },
 "nbformat": 4,
 "nbformat_minor": 4
}
