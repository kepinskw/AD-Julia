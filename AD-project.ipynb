{
 "cells": [
  {
   "cell_type": "markdown",
   "metadata": {},
   "source": [
    "Reverse-mode automatic differentiation in Julia "
   ]
  },
  {
   "cell_type": "markdown",
   "metadata": {},
   "source": [
    "Structures for computational graph"
   ]
  },
  {
   "cell_type": "code",
   "execution_count": 24,
   "metadata": {},
   "outputs": [],
   "source": [
    "abstract type GraphNode end\n",
    "abstract type Operator <: GraphNode end\n",
    "\n",
    "struct Constant{T} <: GraphNode\n",
    "    output :: T\n",
    "end\n",
    "\n",
    "mutable struct Variable <: GraphNode\n",
    "    output :: Any\n",
    "    gradient :: Any\n",
    "    name :: String\n",
    "    Variable(output; name=\"?\") = new(output, nothing, name)\n",
    "end\n",
    "\n",
    "mutable struct ScalarOperator{F} <: Operator\n",
    "    inputs :: Any\n",
    "    output :: Any\n",
    "    gradient :: Any\n",
    "    name :: String\n",
    "    ScalarOperator(fun, inputs...; name=\"?\") = new{typeof(fun)}(inputs, nothing, nothing, name)\n",
    "end\n",
    "\n",
    "mutable struct BroadcastedOperator{F} <: Operator\n",
    "    inputs :: Any\n",
    "    output :: Any\n",
    "    gradient :: Any\n",
    "    name :: String\n",
    "    BroadcastedOperator(fun, inputs...; name=\"?\") = new{typeof(fun)}(inputs, nothing, nothing, name)\n",
    "end"
   ]
  },
  {
   "cell_type": "code",
   "execution_count": 25,
   "metadata": {},
   "outputs": [
    {
     "data": {
      "text/plain": [
       "show (generic function with 496 methods)"
      ]
     },
     "execution_count": 25,
     "metadata": {},
     "output_type": "execute_result"
    }
   ],
   "source": [
    "import Base: show, summary\n",
    "show(io::IO, x::ScalarOperator{F}) where {F} = print(io, \"op \", x.name, \"(\", F, \")\");\n",
    "show(io::IO, x::BroadcastedOperator{F}) where {F} = print(io, \"op.\", x.name, \"(\", F, \")\");\n",
    "show(io::IO, x::Constant) = print(io, \"const \", x.output)\n",
    "show(io::IO, x::Variable) = begin\n",
    "    print(io, \"var \", x.name);\n",
    "    print(io, \"\\n ┣━ ^ \"); summary(io, x.output)\n",
    "    print(io, \"\\n ┗━ ∇ \");  summary(io, x.gradient)\n",
    "end"
   ]
  },
  {
   "cell_type": "markdown",
   "metadata": {},
   "source": [
    "Graph: topological_sort and visit functionalities"
   ]
  },
  {
   "cell_type": "code",
   "execution_count": 26,
   "metadata": {},
   "outputs": [
    {
     "data": {
      "text/plain": [
       "topological_sort (generic function with 1 method)"
      ]
     },
     "execution_count": 26,
     "metadata": {},
     "output_type": "execute_result"
    }
   ],
   "source": [
    "function visit(node::GraphNode, visited, order)\n",
    "    if node ∈ visited\n",
    "    else\n",
    "        push!(visited, node)\n",
    "        push!(order, node)\n",
    "    end\n",
    "    return nothing\n",
    "end\n",
    "    \n",
    "function visit(node::Operator, visited, order)\n",
    "    if node ∈ visited\n",
    "    else\n",
    "        push!(visited, node)\n",
    "        for input in node.inputs\n",
    "            visit(input, visited, order)\n",
    "        end\n",
    "        push!(order, node)\n",
    "    end\n",
    "    return nothing\n",
    "end\n",
    "\n",
    "function topological_sort(head::GraphNode)\n",
    "    visited = Set()\n",
    "    order = Vector()\n",
    "    visit(head, visited, order)\n",
    "    return order\n",
    "end"
   ]
  },
  {
   "cell_type": "markdown",
   "metadata": {},
   "source": [
    "Forward mode AD"
   ]
  },
  {
   "cell_type": "code",
   "execution_count": 27,
   "metadata": {},
   "outputs": [
    {
     "data": {
      "text/plain": [
       "forward! (generic function with 1 method)"
      ]
     },
     "execution_count": 27,
     "metadata": {},
     "output_type": "execute_result"
    }
   ],
   "source": [
    "reset!(node::Constant) = nothing\n",
    "reset!(node::Variable) = node.gradient = nothing\n",
    "reset!(node::Operator) = node.gradient = nothing\n",
    "\n",
    "function reset_gradients!(graph)\n",
    "    for node in graph\n",
    "        node.gradient = nothing\n",
    "    end\n",
    "end\n",
    "\n",
    "\n",
    "compute!(node::Constant) = nothing\n",
    "compute!(node::Variable) = nothing\n",
    "compute!(node::Operator) =\n",
    "    node.output = forward(node, [input.output for input in node.inputs]...)\n",
    "\n",
    "function forward!(order::Vector)\n",
    "    for node in order\n",
    "        compute!(node)\n",
    "        reset!(node)\n",
    "    end\n",
    "    return last(order).output\n",
    "end"
   ]
  },
  {
   "cell_type": "markdown",
   "metadata": {},
   "source": [
    "Reverse mode AD"
   ]
  },
  {
   "cell_type": "code",
   "execution_count": 28,
   "metadata": {},
   "outputs": [
    {
     "data": {
      "text/plain": [
       "backward! (generic function with 4 methods)"
      ]
     },
     "execution_count": 28,
     "metadata": {},
     "output_type": "execute_result"
    }
   ],
   "source": [
    "update!(node::Constant, gradient) = nothing\n",
    "update!(node::GraphNode, gradient) = if isnothing(node.gradient)\n",
    "    node.gradient = gradient else node.gradient .+= gradient\n",
    "end\n",
    "\n",
    "function backward!(order::Vector; seed=1.0)\n",
    "    result = last(order)\n",
    "    result.gradient = seed\n",
    "    for node in reverse(order)\n",
    "        backward!(node)\n",
    "    end\n",
    "    return nothing\n",
    "end\n",
    "\n",
    "function backward!(node::Constant) end\n",
    "function backward!(node::Variable) end\n",
    "function backward!(node::Operator)\n",
    "    inputs = node.inputs\n",
    "    gradients = backward(node, [input.output for input in inputs]..., node.gradient)\n",
    "    for (input, gradient) in zip(inputs, gradients)\n",
    "        update!(input, gradient)\n",
    "    end\n",
    "    return nothing\n",
    "end"
   ]
  },
  {
   "cell_type": "markdown",
   "metadata": {},
   "source": [
    "ScalarOperator logic"
   ]
  },
  {
   "cell_type": "code",
   "execution_count": 29,
   "metadata": {},
   "outputs": [
    {
     "data": {
      "text/plain": [
       "backward (generic function with 22 methods)"
      ]
     },
     "execution_count": 29,
     "metadata": {},
     "output_type": "execute_result"
    }
   ],
   "source": [
    "import Base: ^ , *, +, -, /\n",
    "\n",
    "^(x::GraphNode, n::GraphNode) = ScalarOperator(^, x, n)\n",
    "forward(::ScalarOperator{typeof(^)}, x, n) = return x^n\n",
    "backward(::ScalarOperator{typeof(^)}, x, n, g) = tuple(g * n * x ^ (n-1), g * log(abs(x)) * x ^ n)\n",
    "\n",
    "+(x::GraphNode, y::GraphNode) = ScalarOperator(+, x, y)\n",
    "forward(::ScalarOperator{typeof(+)}, x, y) = x + y\n",
    "backward(::ScalarOperator{typeof(+)}, x, y, gradient) = (gradient, gradient)\n",
    "\n",
    "-(x::GraphNode, y::GraphNode) = ScalarOperator(-, x, y)\n",
    "forward(::ScalarOperator{typeof(-)}, x, y) = x - y\n",
    "backward(::ScalarOperator{typeof(-)}, x, y, gradient) = (gradient, -gradient)\n",
    "\n",
    "*(x::GraphNode, y::GraphNode) = ScalarOperator(*, x, y)\n",
    "forward(::ScalarOperator{typeof(*)}, x, y) = x * y\n",
    "backward(::ScalarOperator{typeof(*)}, x, y, gradient) = (y' * gradient, x' * gradient)\n",
    "\n",
    "/(x::GraphNode, y::GraphNode) = ScalarOperator(/, x, y)\n",
    "forward(::ScalarOperator{typeof(/)}, x, y) = x / y\n",
    "backward(::ScalarOperator{typeof(/)}, x, y, gradient) = (gradient / y, gradient / y)\n",
    "\n",
    "\n",
    "import Base: sin , max, min, log\n",
    "sin(x::GraphNode) = ScalarOperator(sin, x)\n",
    "forward(::ScalarOperator{typeof(sin)}, x) = return sin(x)\n",
    "backward(::ScalarOperator{typeof(sin)}, x, g) = tuple(g * cos(x))\n",
    "\n",
    "log(x::GraphNode) = ScalarOperator(log, x)\n",
    "forward(::ScalarOperator{typeof(log)}, x) = log(x)\n",
    "backward(::ScalarOperator{typeof(log)}, x, gradient) = (gradient / x)\n",
    "\n",
    "max(x::GraphNode, y::GraphNode) = ScalarOperator(max, x, y)\n",
    "forward(::ScalarOperator{typeof(max)}, x, y) = max(x, y)\n",
    "backward(::ScalarOperator{typeof(max)}, x, y, gradient) = (gradient * isless(y, x), gradient * isless(x, y))\n",
    "\n",
    "min(x::GraphNode, y::GraphNode) = ScalarOperator(min, x, y)\n",
    "forward(::ScalarOperator{typeof(min)}, x, y) = min(x, y)\n",
    "backward(::ScalarOperator{typeof(min)}, x, y, gradient) = (gradient * isless(x, y), gradient * isless(y, x))\n",
    "\n",
    "relu(x::GraphNode) = ScalarOperator(relu, x)\n",
    "forward(::ScalarOperator{typeof(relu)}, x) = max(x, 0)\n",
    "backward(::ScalarOperator{typeof(relu)}, x, gradient) = gradient * isless(0, x)\n",
    "\n",
    "logistic(x::GraphNode) = ScalarOperator(logistic, x)\n",
    "forward(::ScalarOperator{typeof(logistic)}, x) = 1 / (1 + exp(-x))\n",
    "backward(::ScalarOperator{typeof(logistic)}, x, gradient) = gradient * exp(-x) / (1 + exp(-x))^2\n"
   ]
  },
  {
   "cell_type": "markdown",
   "metadata": {},
   "source": [
    "Broadcast Operator logic\n"
   ]
  },
  {
   "cell_type": "code",
   "execution_count": 30,
   "metadata": {},
   "outputs": [
    {
     "data": {
      "text/plain": [
       "backward (generic function with 22 methods)"
      ]
     },
     "execution_count": 30,
     "metadata": {},
     "output_type": "execute_result"
    }
   ],
   "source": [
    "import Base: *\n",
    "import LinearAlgebra: mul!, diagm\n",
    "# x * y (aka matrix multiplication)\n",
    "*(A::GraphNode, x::GraphNode) = BroadcastedOperator(mul!, A, x)\n",
    "forward(::BroadcastedOperator{typeof(mul!)}, A, x) = return A * x\n",
    "backward(::BroadcastedOperator{typeof(mul!)}, A, x, g) = tuple(g * x', A' * g)\n",
    "\n",
    "# x .* y (element-wise multiplication)\n",
    "Base.Broadcast.broadcasted(*, x::GraphNode, y::GraphNode) = BroadcastedOperator(*, x, y)\n",
    "forward(::BroadcastedOperator{typeof(*)}, x, y) = return x .* y\n",
    "backward(node::BroadcastedOperator{typeof(*)}, x, y, g) = let\n",
    "    𝟏 = ones(length(node.output))\n",
    "    Jx = diagm(y .* 𝟏)\n",
    "    Jy = diagm(x .* 𝟏)\n",
    "    tuple(Jx' * g, Jy' * g)\n",
    "end\n",
    "\n",
    "Base.Broadcast.broadcasted(-, x::GraphNode, y::GraphNode) = BroadcastedOperator(-, x, y)\n",
    "forward(::BroadcastedOperator{typeof(-)}, x, y) = return x .- y\n",
    "backward(::BroadcastedOperator{typeof(-)}, x, y, g) = tuple(g,-g)\n",
    "\n",
    "Base.Broadcast.broadcasted(+, x::GraphNode, y::GraphNode) = BroadcastedOperator(+, x, y)\n",
    "forward(::BroadcastedOperator{typeof(+)}, x, y) = return x .+ y\n",
    "backward(::BroadcastedOperator{typeof(+)}, x, y, g) = tuple(g, g)\n",
    "\n",
    "import Base: sum\n",
    "sum(x::GraphNode) = BroadcastedOperator(sum, x)\n",
    "forward(::BroadcastedOperator{typeof(sum)}, x) = return sum(x)\n",
    "backward(::BroadcastedOperator{typeof(sum)}, x, g) = let\n",
    "    𝟏 = ones(length(x))\n",
    "    J = 𝟏'\n",
    "    tuple(J' * g)\n",
    "end\n",
    "\n",
    "Base.Broadcast.broadcasted(/, x::GraphNode, y::GraphNode) = BroadcastedOperator(/, x, y)\n",
    "forward(::BroadcastedOperator{typeof(/)}, x, y) = return x ./ y\n",
    "backward(node::BroadcastedOperator{typeof(/)}, x, y::Real, g) = let\n",
    "    𝟏 = ones(length(node.output))\n",
    "    Jx = diagm(𝟏 ./ y)\n",
    "    Jy = (-x ./ y .^2)\n",
    "    tuple(Jx' * g, Jy' * g)\n",
    "end\n",
    "\n",
    "import Base: max\n",
    "Base.Broadcast.broadcasted(max, x::GraphNode, y::GraphNode) = BroadcastedOperator(max, x, y)\n",
    "forward(::BroadcastedOperator{typeof(max)}, x, y) = return max.(x, y)\n",
    "backward(::BroadcastedOperator{typeof(max)}, x, y, g) = let\n",
    "    Jx = diagm(isless.(y, x))\n",
    "    Jy = diagm(isless.(x, y))\n",
    "    tuple(Jx' * g, Jy' * g)\n",
    "end\n",
    "\n",
    "# import Base: tanh\n",
    "# Base.Broadcast.broadcasted(tanh, x::GraphNode)= BroadcastedOperator(tanh,x; name=\"tanh\")\n",
    "# forward(::BroadcastedOperator{typeof(tanh)},x) = return tanh.(x)\n",
    "# backward(::BroadcastedOperator{typeof(tanh)},x, g) = let \n",
    "#     𝟙 = ones(length(node.output))\n",
    "#     tuple((𝟙 - tanh.(x).^2) * g)\n",
    "# end\n"
   ]
  },
  {
   "cell_type": "markdown",
   "metadata": {},
   "source": [
    "Backpropagation of RNN_Cell and Dense layer"
   ]
  },
  {
   "cell_type": "code",
   "execution_count": 31,
   "metadata": {},
   "outputs": [
    {
     "data": {
      "text/plain": [
       "backward (generic function with 22 methods)"
      ]
     },
     "execution_count": 31,
     "metadata": {},
     "output_type": "execute_result"
    }
   ],
   "source": [
    "RNN_cell(wx::GraphNode, wh::GraphNode, b::GraphNode, x, h::GraphNode) = BroadcastedOperator(RNN_cell, wx, wh, b, x, h; name=\"RNN_cell\")\n",
    "forward(::BroadcastedOperator{typeof(RNN_cell)}, wx, wh, b, x ,h) = let \n",
    "    tmp = wx * x .+ wh * h .+ b\n",
    "    return tanh.(tmp)\n",
    "end\n",
    "backward(::BroadcastedOperator{typeof(RNN_cell)}, wx, wh, b, x, h, g) = let \n",
    "    tmp = wx * x .+ wh * h .+ b\n",
    "    dtanh = 1 .- tanh.(tmp).^2\n",
    "    g = g .* dtanh\n",
    "    tuple(g * x', g * h', sum(g,dims=2), wx' *g, wh' * g)\n",
    "end\n",
    "\n",
    "dense(w::GraphNode, b::GraphNode, x::GraphNode) = BroadcastedOperator(dense, w , b, x; name=\"dense\")\n",
    "forward(::BroadcastedOperator{typeof(dense)}, w, b , x) = let \n",
    "    w * x .+ b\n",
    "end\n",
    "backward(::BroadcastedOperator{typeof(dense)}, w, b, x, g) = let \n",
    "    tuple(g * x', sum(g,dims=2), w' * g)\n",
    "end\n"
   ]
  },
  {
   "cell_type": "markdown",
   "metadata": {},
   "source": [
    "Backpropagation: Cross-entropy loss"
   ]
  },
  {
   "cell_type": "code",
   "execution_count": 32,
   "metadata": {},
   "outputs": [
    {
     "data": {
      "text/plain": [
       "backward (generic function with 22 methods)"
      ]
     },
     "execution_count": 32,
     "metadata": {},
     "output_type": "execute_result"
    }
   ],
   "source": [
    "cross_entropy_loss(yhat::GraphNode, y::GraphNode) = BroadcastedOperator(cross_entropy_loss, yhat, y; name=\"cross_entropy_loss\")\n",
    "forward(::BroadcastedOperator{typeof(cross_entropy_loss)}, ŷ, y) =\n",
    "let\n",
    "    # include numerical stability\n",
    "    eps = 1e-8 \n",
    "    ŷ = ŷ .- maximum(ŷ; dims=1)\n",
    "    softmax = exp.(ŷ) ./ sum(exp.(ŷ); dims=1)\n",
    "    softmax = clamp.(softmax, eps, 1.0 - eps)\n",
    "    loss = -sum(y .* log.(softmax .+eps); dims=1) \n",
    "    return mean(loss)\n",
    "end\n",
    "backward(node::BroadcastedOperator{typeof(cross_entropy_loss)}, ŷ, y, g) =\n",
    "let\n",
    "    eps = 1e-8\n",
    "    ŷ = ŷ .- maximum(ŷ; dims=1)  \n",
    "    softmax = exp.(ŷ) ./ sum(exp.(ŷ); dims=1)\n",
    "    softmax = clamp.(softmax, eps, 1.0 - eps)\n",
    "    grad_yhat = softmax - y\n",
    "    return (g .* grad_yhat,)\n",
    "end"
   ]
  },
  {
   "cell_type": "markdown",
   "metadata": {},
   "source": [
    "Dataset"
   ]
  },
  {
   "cell_type": "code",
   "execution_count": 33,
   "metadata": {},
   "outputs": [
    {
     "data": {
      "text/plain": [
       "dataset MNIST:\n",
       "  metadata  =>    Dict{String, Any} with 3 entries\n",
       "  split     =>    :test\n",
       "  features  =>    28×28×10000 Array{Float32, 3}\n",
       "  targets   =>    10000-element Vector{Int64}"
      ]
     },
     "execution_count": 33,
     "metadata": {},
     "output_type": "execute_result"
    }
   ],
   "source": [
    "using MLDatasets\n",
    "using Statistics: mean  \n",
    "train_data = MLDatasets.MNIST(split=:train)\n",
    "test_data = MLDatasets.MNIST(split=:test)"
   ]
  },
  {
   "cell_type": "markdown",
   "metadata": {},
   "source": [
    "Loader function and hot-coldbatch functions"
   ]
  },
  {
   "cell_type": "code",
   "execution_count": 34,
   "metadata": {},
   "outputs": [
    {
     "data": {
      "text/plain": [
       "onecold (generic function with 1 method)"
      ]
     },
     "execution_count": 34,
     "metadata": {},
     "output_type": "execute_result"
    }
   ],
   "source": [
    "using Random\n",
    "function loader(data; batchsize::Int=1, shuffle::Bool=true)\n",
    "    x1dim = reshape(data.features, 28 * 28, :) # reshape 28×28 pixels into a vector of pixels\n",
    "    yhot = onehotbatch(data.targets, 0:9) # make a 10×60000 one-hot matrix\n",
    "    \n",
    "    dataset = (x1dim, yhot)\n",
    "    \n",
    "    num_samples = size(x1dim, 2)\n",
    "    \n",
    "    function create_batches()\n",
    "        indices = shuffle ? Random.shuffle(1:num_samples) : 1:num_samples\n",
    "        batches = []\n",
    "        \n",
    "        for i in 1:batchsize:num_samples\n",
    "            end_idx = min(i+batchsize-1, num_samples)\n",
    "            push!(batches, (x1dim[:, indices[i:end_idx]], yhot[:, indices[i:end_idx]]))\n",
    "        end\n",
    "        \n",
    "        return batches\n",
    "    end\n",
    "    \n",
    "    return create_batches()\n",
    "end\n",
    "\n",
    "\n",
    "function onehotbatch(targets, classes)\n",
    "    onehot = zeros(Int, length(classes), length(targets))\n",
    "    for (i, target) in enumerate(targets)\n",
    "        onehot[target+1, i] = 1\n",
    "    end\n",
    "    return onehot\n",
    "end\n",
    "\n",
    "function onecold(y)\n",
    "    return argmax(y, dims=1)\n",
    "end"
   ]
  },
  {
   "cell_type": "markdown",
   "metadata": {},
   "source": [
    "RNN structure"
   ]
  },
  {
   "cell_type": "code",
   "execution_count": 35,
   "metadata": {},
   "outputs": [
    {
     "data": {
      "text/plain": [
       "dense (generic function with 2 methods)"
      ]
     },
     "execution_count": 35,
     "metadata": {},
     "output_type": "execute_result"
    }
   ],
   "source": [
    "function Recurent_stage(Wx::GraphNode, Wh::GraphNode, b1::GraphNode, x, h)\n",
    "    x̂ = RNN_cell(Wx, Wh, b1, x, h)\n",
    "    x̂.name = \"x̂\"\n",
    "    x̂\n",
    "end\n",
    "\n",
    "function dense(w, b, x)\n",
    "    w * x .+ b\n",
    "end"
   ]
  },
  {
   "cell_type": "code",
   "execution_count": 36,
   "metadata": {},
   "outputs": [
    {
     "data": {
      "text/plain": [
       "net_test (generic function with 1 method)"
      ]
     },
     "execution_count": 36,
     "metadata": {},
     "output_type": "execute_result"
    }
   ],
   "source": [
    "function net_test(data, Wx, Wh, W, b1, b2)\n",
    "    (x,y) = loader(data; batchsize=length(data)) |> first\n",
    "    x_var = Variable(x[1:196,:], name=\"x\")\n",
    "    y = Variable(y, name=\"y\")\n",
    "    \n",
    "    h = Recurent_stage(Wx, Wh, b1,  x_var, Variable(zeros(64,length(data))))\n",
    "    x_var = Variable(x[197:392,:], name=\"x\")\n",
    "    h =  Recurent_stage(Wx, Wh,  b1,  x_var, h)\n",
    "    x_var = Variable(x[393:588,:], name=\"x\")\n",
    "    h =  Recurent_stage(Wx, Wh,  b1,  x_var, h)\n",
    "    x_var = Variable(x[589:end,:], name=\"x\")\n",
    "    x̂ =  Recurent_stage(Wx, Wh,  b1, x_var, h)\n",
    "    ŷ = dense(W, b2, x̂)\n",
    "    \n",
    "    E = cross_entropy_loss(ŷ, y)\n",
    "    E.name = \"loss\"\n",
    "    E.inputs\n",
    "    graph = topological_sort(E)\n",
    "    loss = forward!(graph)\n",
    "    \n",
    "    acc = round(100*mean(onecold(ŷ.output) .== onecold(y.output)); digits=2)\n",
    "    (; loss, acc, split=data.split)\n",
    "end"
   ]
  },
  {
   "cell_type": "markdown",
   "metadata": {},
   "source": [
    "Weights update and clipping "
   ]
  },
  {
   "cell_type": "code",
   "execution_count": 37,
   "metadata": {},
   "outputs": [
    {
     "data": {
      "text/plain": [
       "cliping (generic function with 1 method)"
      ]
     },
     "execution_count": 37,
     "metadata": {},
     "output_type": "execute_result"
    }
   ],
   "source": [
    "function weights_update(graph::Vector, lr=0.0001)\n",
    "    for node in graph\n",
    "        if isa(node, Variable) && !isnothing(node.gradient)\n",
    "            node.output .-= lr*node.gradient\n",
    "            node.gradient .= 0.0\n",
    "        end\n",
    "    end\n",
    "end\n",
    "\n",
    "function cliping(graph::Vector)\n",
    "    clip_value = 5.0 #5.0 best val\n",
    "    # After backward pass, before weights update for stability\n",
    "    for node in graph\n",
    "        if isa(node, Variable) && !isnothing(node.gradient)\n",
    "            \n",
    "            node.gradient .= clamp.(node.gradient, -clip_value, clip_value)\n",
    "        end\n",
    "    end\n",
    "end"
   ]
  },
  {
   "cell_type": "markdown",
   "metadata": {},
   "source": [
    "Weights initialization using the Xavier method"
   ]
  },
  {
   "cell_type": "code",
   "execution_count": 48,
   "metadata": {},
   "outputs": [
    {
     "data": {
      "text/plain": [
       "var b2\n",
       " ┣━ ^ 10-element Vector{Float64}\n",
       " ┗━ ∇ Nothing"
      ]
     },
     "execution_count": 48,
     "metadata": {},
     "output_type": "execute_result"
    }
   ],
   "source": [
    "input_size = 14*14\n",
    "hidden_size = 64\n",
    "output_size = 10\n",
    "\n",
    "function xavier_init(out_size, in_size, gain)\n",
    "    return randn(out_size, in_size) .* gain * sqrt(6.0 / (in_size + out_size))\n",
    "end\n",
    "\n",
    "global Wx = Variable(xavier_init(hidden_size, input_size,2), name=\"Wx\")\n",
    "global Wh = Variable(xavier_init(hidden_size, hidden_size,2), name=\"Wh\")\n",
    "global W  = Variable(xavier_init(output_size, hidden_size,2), name=\"W\")\n",
    "global b1 = Variable(randn(hidden_size), name=\"b1\")\n",
    "global b2 = Variable(randn(output_size), name=\"b2\")"
   ]
  },
  {
   "cell_type": "markdown",
   "metadata": {},
   "source": [
    "Train loop"
   ]
  },
  {
   "cell_type": "code",
   "execution_count": 39,
   "metadata": {},
   "outputs": [
    {
     "data": {
      "text/plain": [
       "train_loop (generic function with 1 method)"
      ]
     },
     "execution_count": 39,
     "metadata": {},
     "output_type": "execute_result"
    }
   ],
   "source": [
    "function train_loop(train_data, test_data, Wx, Wh, W, b1, b2)\n",
    "    best_acc = 0.0\n",
    "    last_improvent = 0\n",
    "    lr = 1e-4\n",
    "    for epoch in 1:30\n",
    "        for (x,y) in loader(train_data; batchsize = 100)\n",
    "            \n",
    "            h = Variable(zeros(64,100), name=\"h\")\n",
    "            x_var = Variable(x[1:196,:], name=\"x\")\n",
    "            y = Variable(y, name=\"y\")\n",
    "            \n",
    "            h = Recurent_stage(Wx, Wh, b1,  x_var, h)\n",
    "            h.name = \"h\"\n",
    "            x_var = Variable(x[197:392,:], name=\"x\")\n",
    "            \n",
    "            h =  Recurent_stage(Wx, Wh,  b1,  x_var, h)\n",
    "            h.name = \"h\"\n",
    "            x_var = Variable(x[393:588,:], name=\"x\")\n",
    "            \n",
    "            h =  Recurent_stage(Wx, Wh,  b1,  x_var, h)\n",
    "            h.name = \"h\"\n",
    "            x_var = Variable(x[589:end,:], name=\"x\")\n",
    "            \n",
    "            x̂ =  Recurent_stage(Wx, Wh,  b1, x_var, h)\n",
    "            h.name = \"x̂\"\n",
    "            ŷ = dense(W, b2, x̂)\n",
    "            \n",
    "            E = cross_entropy_loss(ŷ, y)\n",
    "            E.name = \"loss\"\n",
    "            graph = topological_sort(E)\n",
    "            forward!(graph)\n",
    "            reset_gradients!(graph)\n",
    "            backward!(graph)\n",
    "            cliping(graph)  \n",
    "            weights_update(graph, lr)\n",
    "        end\n",
    "        loss_train, acc_train, _ = net_test(train_data, Wx, Wh, W, b1, b2)\n",
    "        loss_test, acc_test, _ = net_test(test_data, Wx, Wh, W, b1, b2)\n",
    "\n",
    "        if acc_train > best_acc\n",
    "            best_acc = acc_train\n",
    "            last_improvent = epoch\n",
    "        end\n",
    "        if  epoch - last_improvent >= 10 && lr > 1e-6\n",
    "            lr /= 10\n",
    "            last_improvent = epoch\n",
    "        end\n",
    "        if epoch - last_improvent >= 20\n",
    "            @warn \"Early stopping no inprovement in 20 epochs\"\n",
    "            break\n",
    "        end\n",
    "        @info \"Epoch: $epoch, Train Loss: $loss_train, Train Accuracy: $acc_train, Test Loss: $loss_test, Test Accuracy: $acc_test\"\n",
    "    end\n",
    "end"
   ]
  },
  {
   "cell_type": "markdown",
   "metadata": {},
   "source": [
    "Main"
   ]
  },
  {
   "cell_type": "code",
   "execution_count": 49,
   "metadata": {
    "scrolled": true
   },
   "outputs": [
    {
     "name": "stderr",
     "output_type": "stream",
     "text": [
      "\u001b[36m\u001b[1m[ \u001b[22m\u001b[39m\u001b[36m\u001b[1mInfo: \u001b[22m\u001b[39mEpoch: 1, Train Loss: 1.2664953134044423, Train Accuracy: 61.46, Test Loss: 1.2535492605742524, Test Accuracy: 62.04\n",
      "\u001b[36m\u001b[1m[ \u001b[22m\u001b[39m\u001b[36m\u001b[1mInfo: \u001b[22m\u001b[39mEpoch: 2, Train Loss: 0.8855923556646464, Train Accuracy: 72.64, Test Loss: 0.8858443077904129, Test Accuracy: 72.59\n",
      "\u001b[36m\u001b[1m[ \u001b[22m\u001b[39m\u001b[36m\u001b[1mInfo: \u001b[22m\u001b[39mEpoch: 3, Train Loss: 0.7229532769654887, Train Accuracy: 77.82, Test Loss: 0.7222599028024193, Test Accuracy: 77.89\n",
      "\u001b[36m\u001b[1m[ \u001b[22m\u001b[39m\u001b[36m\u001b[1mInfo: \u001b[22m\u001b[39mEpoch: 4, Train Loss: 0.6240106195743347, Train Accuracy: 80.87, Test Loss: 0.6255390045500597, Test Accuracy: 80.67\n",
      "\u001b[36m\u001b[1m[ \u001b[22m\u001b[39m\u001b[36m\u001b[1mInfo: \u001b[22m\u001b[39mEpoch: 5, Train Loss: 0.558261981198787, Train Accuracy: 83.0, Test Loss: 0.5609755922085861, Test Accuracy: 83.01\n",
      "\u001b[36m\u001b[1m[ \u001b[22m\u001b[39m\u001b[36m\u001b[1mInfo: \u001b[22m\u001b[39mEpoch: 6, Train Loss: 0.5093729725300536, Train Accuracy: 84.45, Test Loss: 0.5137922136697862, Test Accuracy: 84.45\n",
      "\u001b[36m\u001b[1m[ \u001b[22m\u001b[39m\u001b[36m\u001b[1mInfo: \u001b[22m\u001b[39mEpoch: 7, Train Loss: 0.47228029918886716, Train Accuracy: 85.64, Test Loss: 0.48014049388806873, Test Accuracy: 85.57\n",
      "\u001b[36m\u001b[1m[ \u001b[22m\u001b[39m\u001b[36m\u001b[1mInfo: \u001b[22m\u001b[39mEpoch: 8, Train Loss: 0.44317842481424324, Train Accuracy: 86.48, Test Loss: 0.4525054038502789, Test Accuracy: 86.44\n",
      "\u001b[36m\u001b[1m[ \u001b[22m\u001b[39m\u001b[36m\u001b[1mInfo: \u001b[22m\u001b[39mEpoch: 9, Train Loss: 0.4185612205538416, Train Accuracy: 87.36, Test Loss: 0.4295439269880609, Test Accuracy: 87.15\n",
      "\u001b[36m\u001b[1m[ \u001b[22m\u001b[39m\u001b[36m\u001b[1mInfo: \u001b[22m\u001b[39mEpoch: 10, Train Loss: 0.399962177862062, Train Accuracy: 87.99, Test Loss: 0.4144788383366369, Test Accuracy: 87.59\n",
      "\u001b[36m\u001b[1m[ \u001b[22m\u001b[39m\u001b[36m\u001b[1mInfo: \u001b[22m\u001b[39mEpoch: 11, Train Loss: 0.3820589844295423, Train Accuracy: 88.58, Test Loss: 0.39728048964453544, Test Accuracy: 88.14\n",
      "\u001b[36m\u001b[1m[ \u001b[22m\u001b[39m\u001b[36m\u001b[1mInfo: \u001b[22m\u001b[39mEpoch: 12, Train Loss: 0.3666955862030878, Train Accuracy: 89.0, Test Loss: 0.3831673713943052, Test Accuracy: 88.48\n",
      "\u001b[36m\u001b[1m[ \u001b[22m\u001b[39m\u001b[36m\u001b[1mInfo: \u001b[22m\u001b[39mEpoch: 13, Train Loss: 0.3539105508375994, Train Accuracy: 89.44, Test Loss: 0.3731116648363832, Test Accuracy: 88.81\n",
      "\u001b[36m\u001b[1m[ \u001b[22m\u001b[39m\u001b[36m\u001b[1mInfo: \u001b[22m\u001b[39mEpoch: 14, Train Loss: 0.34201549010627375, Train Accuracy: 89.86, Test Loss: 0.3636643390453727, Test Accuracy: 89.06\n",
      "\u001b[36m\u001b[1m[ \u001b[22m\u001b[39m\u001b[36m\u001b[1mInfo: \u001b[22m\u001b[39mEpoch: 15, Train Loss: 0.3318112988404602, Train Accuracy: 90.09, Test Loss: 0.3554885485565719, Test Accuracy: 89.3\n",
      "\u001b[36m\u001b[1m[ \u001b[22m\u001b[39m\u001b[36m\u001b[1mInfo: \u001b[22m\u001b[39mEpoch: 16, Train Loss: 0.3218959356314936, Train Accuracy: 90.44, Test Loss: 0.3472295875858703, Test Accuracy: 89.47\n",
      "\u001b[36m\u001b[1m[ \u001b[22m\u001b[39m\u001b[36m\u001b[1mInfo: \u001b[22m\u001b[39mEpoch: 17, Train Loss: 0.3129192248965633, Train Accuracy: 90.62, Test Loss: 0.3407880010861779, Test Accuracy: 89.6\n",
      "\u001b[36m\u001b[1m[ \u001b[22m\u001b[39m\u001b[36m\u001b[1mInfo: \u001b[22m\u001b[39mEpoch: 18, Train Loss: 0.3048658144536697, Train Accuracy: 90.91, Test Loss: 0.3343441808755437, Test Accuracy: 89.76\n",
      "\u001b[36m\u001b[1m[ \u001b[22m\u001b[39m\u001b[36m\u001b[1mInfo: \u001b[22m\u001b[39mEpoch: 19, Train Loss: 0.2977440684041189, Train Accuracy: 91.1, Test Loss: 0.3289989367634613, Test Accuracy: 89.98\n",
      "\u001b[36m\u001b[1m[ \u001b[22m\u001b[39m\u001b[36m\u001b[1mInfo: \u001b[22m\u001b[39mEpoch: 20, Train Loss: 0.29062116372691404, Train Accuracy: 91.36, Test Loss: 0.3230718130827896, Test Accuracy: 90.18\n",
      "\u001b[36m\u001b[1m[ \u001b[22m\u001b[39m\u001b[36m\u001b[1mInfo: \u001b[22m\u001b[39mEpoch: 21, Train Loss: 0.2838913482486458, Train Accuracy: 91.53, Test Loss: 0.31814959566353934, Test Accuracy: 90.43\n",
      "\u001b[36m\u001b[1m[ \u001b[22m\u001b[39m\u001b[36m\u001b[1mInfo: \u001b[22m\u001b[39mEpoch: 22, Train Loss: 0.2782149541048587, Train Accuracy: 91.76, Test Loss: 0.31218156971536154, Test Accuracy: 90.66\n",
      "\u001b[36m\u001b[1m[ \u001b[22m\u001b[39m\u001b[36m\u001b[1mInfo: \u001b[22m\u001b[39mEpoch: 23, Train Loss: 0.2722992964322484, Train Accuracy: 91.92, Test Loss: 0.30908486230200266, Test Accuracy: 90.8\n",
      "\u001b[36m\u001b[1m[ \u001b[22m\u001b[39m\u001b[36m\u001b[1mInfo: \u001b[22m\u001b[39mEpoch: 24, Train Loss: 0.26810294574475696, Train Accuracy: 92.06, Test Loss: 0.3061040690724166, Test Accuracy: 90.88\n",
      "\u001b[36m\u001b[1m[ \u001b[22m\u001b[39m\u001b[36m\u001b[1mInfo: \u001b[22m\u001b[39mEpoch: 25, Train Loss: 0.26231391693121014, Train Accuracy: 92.18, Test Loss: 0.3002021384023852, Test Accuracy: 91.18\n",
      "\u001b[36m\u001b[1m[ \u001b[22m\u001b[39m\u001b[36m\u001b[1mInfo: \u001b[22m\u001b[39mEpoch: 26, Train Loss: 0.2574653660596657, Train Accuracy: 92.35, Test Loss: 0.29661720665891766, Test Accuracy: 91.28\n",
      "\u001b[36m\u001b[1m[ \u001b[22m\u001b[39m\u001b[36m\u001b[1mInfo: \u001b[22m\u001b[39mEpoch: 27, Train Loss: 0.25265292306770937, Train Accuracy: 92.5, Test Loss: 0.2948403477071892, Test Accuracy: 91.5\n",
      "\u001b[36m\u001b[1m[ \u001b[22m\u001b[39m\u001b[36m\u001b[1mInfo: \u001b[22m\u001b[39mEpoch: 28, Train Loss: 0.24824496125538692, Train Accuracy: 92.66, Test Loss: 0.29048043797191614, Test Accuracy: 91.48\n",
      "\u001b[36m\u001b[1m[ \u001b[22m\u001b[39m\u001b[36m\u001b[1mInfo: \u001b[22m\u001b[39mEpoch: 29, Train Loss: 0.24435356674962472, Train Accuracy: 92.74, Test Loss: 0.28757136158036495, Test Accuracy: 91.64\n",
      "\u001b[36m\u001b[1m[ \u001b[22m\u001b[39m\u001b[36m\u001b[1mInfo: \u001b[22m\u001b[39mEpoch: 30, Train Loss: 0.24023290693035781, Train Accuracy: 92.86, Test Loss: 0.28485140470271936, Test Accuracy: 91.72\n"
     ]
    },
    {
     "name": "stdout",
     "output_type": "stream",
     "text": [
      " 86.338925 seconds (12.30 M allocations: 157.124 GiB, 6.41% gc time)\n"
     ]
    },
    {
     "name": "stderr",
     "output_type": "stream",
     "text": [
      "\u001b[36m\u001b[1m[ \u001b[22m\u001b[39m\u001b[36m\u001b[1mInfo: \u001b[22m\u001b[39m168710138528\n",
      "\u001b[36m\u001b[1m[ \u001b[22m\u001b[39m\u001b[36m\u001b[1mInfo: \u001b[22m\u001b[39mElapsed time: 86.38312816619873\n"
     ]
    }
   ],
   "source": [
    "start_time = time()\n",
    "@time @info @allocated train_loop(train_data, test_data, Wx, Wh, W, b1, b2)\n",
    "end_time = time()\n",
    "elapsed_time = end_time - start_time\n",
    "@info \"Elapsed time: $elapsed_time\""
   ]
  }
 ],
 "metadata": {
  "kernelspec": {
   "display_name": "Julia 1.10.2",
   "language": "julia",
   "name": "julia-1.10"
  },
  "language_info": {
   "file_extension": ".jl",
   "mimetype": "application/julia",
   "name": "julia",
   "version": "1.10.2"
  }
 },
 "nbformat": 4,
 "nbformat_minor": 4
}
